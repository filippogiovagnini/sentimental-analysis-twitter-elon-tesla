{
 "cells": [
  {
   "cell_type": "code",
   "execution_count": 7,
   "metadata": {},
   "outputs": [],
   "source": [
    "import numpy as np\n",
    "import pandas as pd\n",
    "import re\n",
    "from textblob import TextBlob\n",
    "import matplotlib.pyplot as plt\n",
    "import seaborn as sns"
   ]
  },
  {
   "cell_type": "code",
   "execution_count": null,
   "metadata": {},
   "outputs": [
    {
     "name": "stdout",
     "output_type": "stream",
     "text": [
      "Index(['User', 'Username', 'UTC Date', 'post', 'Binders', 'Permalink',\n",
      "       'reposts', 'Likes count', 'Impressions', 'Quotes', 'Replies',\n",
      "       'Bookmarks', 'post value', 'Cleaned_Tweets', 'sentiment_score_bert'],\n",
      "      dtype='object')\n",
      "Your burning passion for tesla ….paid off in a way.  It’s a looker indeed, Congrats\n"
     ]
    }
   ],
   "source": [
    "import pandas as pd\n",
    "import os\n",
    "\n",
    "csv_path = os.path.join(os.getcwd(), 'code_gpus', 'twitter-elon-tesla-bert.csv')\n",
    "df = pd.read_csv(csv_path)\n",
    "print(df.columns)\n",
    "selected_columns = df[['Cleaned_Tweets', 'sentiment_score_bert']]"
   ]
  },
  {
   "cell_type": "code",
   "execution_count": null,
   "metadata": {},
   "outputs": [],
   "source": []
  }
 ],
 "metadata": {
  "kernelspec": {
   "display_name": "myenv",
   "language": "python",
   "name": "python3"
  },
  "language_info": {
   "codemirror_mode": {
    "name": "ipython",
    "version": 3
   },
   "file_extension": ".py",
   "mimetype": "text/x-python",
   "name": "python",
   "nbconvert_exporter": "python",
   "pygments_lexer": "ipython3",
   "version": "3.9.19"
  }
 },
 "nbformat": 4,
 "nbformat_minor": 2
}
